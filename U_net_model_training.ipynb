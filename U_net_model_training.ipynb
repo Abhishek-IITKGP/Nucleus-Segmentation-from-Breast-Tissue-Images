{
  "cells": [
    {
      "cell_type": "markdown",
      "metadata": {
        "id": "Wm8OKtMUiKFh"
      },
      "source": [
        "# Importig Important Libraries"
      ]
    },
    {
      "cell_type": "code",
      "execution_count": 81,
      "metadata": {
        "id": "VxGEMQ2wmEWd"
      },
      "outputs": [],
      "source": [
        "import os\n",
        "import numpy as np\n",
        "import tensorflow as tf\n",
        "from tensorflow.keras.models import Model\n",
        "from tensorflow.keras.layers import Input, Conv2D, MaxPooling2D, UpSampling2D, concatenate\n",
        "from tensorflow.keras.optimizers import Adam\n",
        "from sklearn.model_selection import train_test_split\n",
        "import matplotlib.pyplot as plt\n",
        "import cv2\n",
        "from skimage import data\n",
        "from skimage.color import rgb2hed, hed2rgb\n",
        "from tensorflow.keras.models import Model\n",
        "from tensorflow.keras.losses import BinaryCrossentropy\n",
        "from tensorflow.keras.callbacks import EarlyStopping\n",
        "from sklearn.metrics import precision_score, recall_score\n",
        "from tensorflow.keras.models import load_model\n",
        "from tensorflow.keras.preprocessing.image import load_img, img_to_array"
      ]
    },
    {
      "cell_type": "code",
      "execution_count": 71,
      "metadata": {
        "colab": {
          "base_uri": "https://localhost:8080/"
        },
        "id": "N-jVKFuaXwEY",
        "outputId": "5e7da61c-c199-495e-d843-90454924c6e7"
      },
      "outputs": [
        {
          "output_type": "stream",
          "name": "stdout",
          "text": [
            "Drive already mounted at /content/drive; to attempt to forcibly remount, call drive.mount(\"/content/drive\", force_remount=True).\n"
          ]
        }
      ],
      "source": [
        "from google.colab import drive\n",
        "drive.mount('/content/drive')"
      ]
    },
    {
      "cell_type": "code",
      "execution_count": 82,
      "metadata": {
        "colab": {
          "base_uri": "https://localhost:8080/"
        },
        "id": "OSgzqFO2mE52",
        "outputId": "ef7485f9-1bbb-44cb-a90d-016e43b9d2a9"
      },
      "outputs": [
        {
          "output_type": "stream",
          "name": "stdout",
          "text": [
            "Model: \"UNET\"\n",
            "__________________________________________________________________________________________________\n",
            " Layer (type)                Output Shape                 Param #   Connected to                  \n",
            "==================================================================================================\n",
            " input_11 (InputLayer)       [(None, 256, 256, 3)]        0         []                            \n",
            "                                                                                                  \n",
            " conv2d_190 (Conv2D)         (None, 256, 256, 64)         1792      ['input_11[0][0]']            \n",
            "                                                                                                  \n",
            " batch_normalization_180 (B  (None, 256, 256, 64)         256       ['conv2d_190[0][0]']          \n",
            " atchNormalization)                                                                               \n",
            "                                                                                                  \n",
            " activation_180 (Activation  (None, 256, 256, 64)         0         ['batch_normalization_180[0][0\n",
            " )                                                                  ]']                           \n",
            "                                                                                                  \n",
            " conv2d_191 (Conv2D)         (None, 256, 256, 64)         36928     ['activation_180[0][0]']      \n",
            "                                                                                                  \n",
            " batch_normalization_181 (B  (None, 256, 256, 64)         256       ['conv2d_191[0][0]']          \n",
            " atchNormalization)                                                                               \n",
            "                                                                                                  \n",
            " activation_181 (Activation  (None, 256, 256, 64)         0         ['batch_normalization_181[0][0\n",
            " )                                                                  ]']                           \n",
            "                                                                                                  \n",
            " max_pooling2d_40 (MaxPooli  (None, 128, 128, 64)         0         ['activation_181[0][0]']      \n",
            " ng2D)                                                                                            \n",
            "                                                                                                  \n",
            " conv2d_192 (Conv2D)         (None, 128, 128, 128)        73856     ['max_pooling2d_40[0][0]']    \n",
            "                                                                                                  \n",
            " batch_normalization_182 (B  (None, 128, 128, 128)        512       ['conv2d_192[0][0]']          \n",
            " atchNormalization)                                                                               \n",
            "                                                                                                  \n",
            " activation_182 (Activation  (None, 128, 128, 128)        0         ['batch_normalization_182[0][0\n",
            " )                                                                  ]']                           \n",
            "                                                                                                  \n",
            " conv2d_193 (Conv2D)         (None, 128, 128, 128)        147584    ['activation_182[0][0]']      \n",
            "                                                                                                  \n",
            " batch_normalization_183 (B  (None, 128, 128, 128)        512       ['conv2d_193[0][0]']          \n",
            " atchNormalization)                                                                               \n",
            "                                                                                                  \n",
            " activation_183 (Activation  (None, 128, 128, 128)        0         ['batch_normalization_183[0][0\n",
            " )                                                                  ]']                           \n",
            "                                                                                                  \n",
            " max_pooling2d_41 (MaxPooli  (None, 64, 64, 128)          0         ['activation_183[0][0]']      \n",
            " ng2D)                                                                                            \n",
            "                                                                                                  \n",
            " conv2d_194 (Conv2D)         (None, 64, 64, 256)          295168    ['max_pooling2d_41[0][0]']    \n",
            "                                                                                                  \n",
            " batch_normalization_184 (B  (None, 64, 64, 256)          1024      ['conv2d_194[0][0]']          \n",
            " atchNormalization)                                                                               \n",
            "                                                                                                  \n",
            " activation_184 (Activation  (None, 64, 64, 256)          0         ['batch_normalization_184[0][0\n",
            " )                                                                  ]']                           \n",
            "                                                                                                  \n",
            " conv2d_195 (Conv2D)         (None, 64, 64, 256)          590080    ['activation_184[0][0]']      \n",
            "                                                                                                  \n",
            " batch_normalization_185 (B  (None, 64, 64, 256)          1024      ['conv2d_195[0][0]']          \n",
            " atchNormalization)                                                                               \n",
            "                                                                                                  \n",
            " activation_185 (Activation  (None, 64, 64, 256)          0         ['batch_normalization_185[0][0\n",
            " )                                                                  ]']                           \n",
            "                                                                                                  \n",
            " max_pooling2d_42 (MaxPooli  (None, 32, 32, 256)          0         ['activation_185[0][0]']      \n",
            " ng2D)                                                                                            \n",
            "                                                                                                  \n",
            " conv2d_196 (Conv2D)         (None, 32, 32, 512)          1180160   ['max_pooling2d_42[0][0]']    \n",
            "                                                                                                  \n",
            " batch_normalization_186 (B  (None, 32, 32, 512)          2048      ['conv2d_196[0][0]']          \n",
            " atchNormalization)                                                                               \n",
            "                                                                                                  \n",
            " activation_186 (Activation  (None, 32, 32, 512)          0         ['batch_normalization_186[0][0\n",
            " )                                                                  ]']                           \n",
            "                                                                                                  \n",
            " conv2d_197 (Conv2D)         (None, 32, 32, 512)          2359808   ['activation_186[0][0]']      \n",
            "                                                                                                  \n",
            " batch_normalization_187 (B  (None, 32, 32, 512)          2048      ['conv2d_197[0][0]']          \n",
            " atchNormalization)                                                                               \n",
            "                                                                                                  \n",
            " activation_187 (Activation  (None, 32, 32, 512)          0         ['batch_normalization_187[0][0\n",
            " )                                                                  ]']                           \n",
            "                                                                                                  \n",
            " max_pooling2d_43 (MaxPooli  (None, 16, 16, 512)          0         ['activation_187[0][0]']      \n",
            " ng2D)                                                                                            \n",
            "                                                                                                  \n",
            " conv2d_198 (Conv2D)         (None, 16, 16, 1024)         4719616   ['max_pooling2d_43[0][0]']    \n",
            "                                                                                                  \n",
            " batch_normalization_188 (B  (None, 16, 16, 1024)         4096      ['conv2d_198[0][0]']          \n",
            " atchNormalization)                                                                               \n",
            "                                                                                                  \n",
            " activation_188 (Activation  (None, 16, 16, 1024)         0         ['batch_normalization_188[0][0\n",
            " )                                                                  ]']                           \n",
            "                                                                                                  \n",
            " conv2d_199 (Conv2D)         (None, 16, 16, 1024)         9438208   ['activation_188[0][0]']      \n",
            "                                                                                                  \n",
            " batch_normalization_189 (B  (None, 16, 16, 1024)         4096      ['conv2d_199[0][0]']          \n",
            " atchNormalization)                                                                               \n",
            "                                                                                                  \n",
            " activation_189 (Activation  (None, 16, 16, 1024)         0         ['batch_normalization_189[0][0\n",
            " )                                                                  ]']                           \n",
            "                                                                                                  \n",
            " conv2d_transpose_40 (Conv2  (None, 32, 32, 512)          2097664   ['activation_189[0][0]']      \n",
            " DTranspose)                                                                                      \n",
            "                                                                                                  \n",
            " concatenate_40 (Concatenat  (None, 32, 32, 1024)         0         ['conv2d_transpose_40[0][0]', \n",
            " e)                                                                  'activation_187[0][0]']      \n",
            "                                                                                                  \n",
            " conv2d_200 (Conv2D)         (None, 32, 32, 512)          4719104   ['concatenate_40[0][0]']      \n",
            "                                                                                                  \n",
            " batch_normalization_190 (B  (None, 32, 32, 512)          2048      ['conv2d_200[0][0]']          \n",
            " atchNormalization)                                                                               \n",
            "                                                                                                  \n",
            " activation_190 (Activation  (None, 32, 32, 512)          0         ['batch_normalization_190[0][0\n",
            " )                                                                  ]']                           \n",
            "                                                                                                  \n",
            " conv2d_201 (Conv2D)         (None, 32, 32, 512)          2359808   ['activation_190[0][0]']      \n",
            "                                                                                                  \n",
            " batch_normalization_191 (B  (None, 32, 32, 512)          2048      ['conv2d_201[0][0]']          \n",
            " atchNormalization)                                                                               \n",
            "                                                                                                  \n",
            " activation_191 (Activation  (None, 32, 32, 512)          0         ['batch_normalization_191[0][0\n",
            " )                                                                  ]']                           \n",
            "                                                                                                  \n",
            " conv2d_transpose_41 (Conv2  (None, 64, 64, 256)          524544    ['activation_191[0][0]']      \n",
            " DTranspose)                                                                                      \n",
            "                                                                                                  \n",
            " concatenate_41 (Concatenat  (None, 64, 64, 512)          0         ['conv2d_transpose_41[0][0]', \n",
            " e)                                                                  'activation_185[0][0]']      \n",
            "                                                                                                  \n",
            " conv2d_202 (Conv2D)         (None, 64, 64, 256)          1179904   ['concatenate_41[0][0]']      \n",
            "                                                                                                  \n",
            " batch_normalization_192 (B  (None, 64, 64, 256)          1024      ['conv2d_202[0][0]']          \n",
            " atchNormalization)                                                                               \n",
            "                                                                                                  \n",
            " activation_192 (Activation  (None, 64, 64, 256)          0         ['batch_normalization_192[0][0\n",
            " )                                                                  ]']                           \n",
            "                                                                                                  \n",
            " conv2d_203 (Conv2D)         (None, 64, 64, 256)          590080    ['activation_192[0][0]']      \n",
            "                                                                                                  \n",
            " batch_normalization_193 (B  (None, 64, 64, 256)          1024      ['conv2d_203[0][0]']          \n",
            " atchNormalization)                                                                               \n",
            "                                                                                                  \n",
            " activation_193 (Activation  (None, 64, 64, 256)          0         ['batch_normalization_193[0][0\n",
            " )                                                                  ]']                           \n",
            "                                                                                                  \n",
            " conv2d_transpose_42 (Conv2  (None, 128, 128, 128)        131200    ['activation_193[0][0]']      \n",
            " DTranspose)                                                                                      \n",
            "                                                                                                  \n",
            " concatenate_42 (Concatenat  (None, 128, 128, 256)        0         ['conv2d_transpose_42[0][0]', \n",
            " e)                                                                  'activation_183[0][0]']      \n",
            "                                                                                                  \n",
            " conv2d_204 (Conv2D)         (None, 128, 128, 128)        295040    ['concatenate_42[0][0]']      \n",
            "                                                                                                  \n",
            " batch_normalization_194 (B  (None, 128, 128, 128)        512       ['conv2d_204[0][0]']          \n",
            " atchNormalization)                                                                               \n",
            "                                                                                                  \n",
            " activation_194 (Activation  (None, 128, 128, 128)        0         ['batch_normalization_194[0][0\n",
            " )                                                                  ]']                           \n",
            "                                                                                                  \n",
            " conv2d_205 (Conv2D)         (None, 128, 128, 128)        147584    ['activation_194[0][0]']      \n",
            "                                                                                                  \n",
            " batch_normalization_195 (B  (None, 128, 128, 128)        512       ['conv2d_205[0][0]']          \n",
            " atchNormalization)                                                                               \n",
            "                                                                                                  \n",
            " activation_195 (Activation  (None, 128, 128, 128)        0         ['batch_normalization_195[0][0\n",
            " )                                                                  ]']                           \n",
            "                                                                                                  \n",
            " conv2d_transpose_43 (Conv2  (None, 256, 256, 64)         32832     ['activation_195[0][0]']      \n",
            " DTranspose)                                                                                      \n",
            "                                                                                                  \n",
            " concatenate_43 (Concatenat  (None, 256, 256, 128)        0         ['conv2d_transpose_43[0][0]', \n",
            " e)                                                                  'activation_181[0][0]']      \n",
            "                                                                                                  \n",
            " conv2d_206 (Conv2D)         (None, 256, 256, 64)         73792     ['concatenate_43[0][0]']      \n",
            "                                                                                                  \n",
            " batch_normalization_196 (B  (None, 256, 256, 64)         256       ['conv2d_206[0][0]']          \n",
            " atchNormalization)                                                                               \n",
            "                                                                                                  \n",
            " activation_196 (Activation  (None, 256, 256, 64)         0         ['batch_normalization_196[0][0\n",
            " )                                                                  ]']                           \n",
            "                                                                                                  \n",
            " conv2d_207 (Conv2D)         (None, 256, 256, 64)         36928     ['activation_196[0][0]']      \n",
            "                                                                                                  \n",
            " batch_normalization_197 (B  (None, 256, 256, 64)         256       ['conv2d_207[0][0]']          \n",
            " atchNormalization)                                                                               \n",
            "                                                                                                  \n",
            " activation_197 (Activation  (None, 256, 256, 64)         0         ['batch_normalization_197[0][0\n",
            " )                                                                  ]']                           \n",
            "                                                                                                  \n",
            " conv2d_208 (Conv2D)         (None, 256, 256, 1)          65        ['activation_197[0][0]']      \n",
            "                                                                                                  \n",
            "==================================================================================================\n",
            "Total params: 31055297 (118.47 MB)\n",
            "Trainable params: 31043521 (118.42 MB)\n",
            "Non-trainable params: 11776 (46.00 KB)\n",
            "__________________________________________________________________________________________________\n"
          ]
        }
      ],
      "source": [
        "from tensorflow.keras.layers import Conv2D, BatchNormalization, Activation, MaxPool2D, Conv2DTranspose, Concatenate, Input\n",
        "from tensorflow.keras.models import Model\n",
        "\n",
        "def conv_block(inputs, num_filters):\n",
        "    x = Conv2D(num_filters, 3, padding=\"same\")(inputs)\n",
        "    x = BatchNormalization()(x)\n",
        "    x = Activation(\"relu\")(x)\n",
        "\n",
        "    x = Conv2D(num_filters, 3, padding=\"same\")(x)\n",
        "    x = BatchNormalization()(x)\n",
        "    x = Activation(\"relu\")(x)\n",
        "\n",
        "    return x\n",
        "\n",
        "def encoder_block(inputs, num_filters):\n",
        "    s = conv_block(inputs, num_filters)\n",
        "    p = MaxPool2D((2, 2))(s)\n",
        "    return s, p\n",
        "\n",
        "def decoder_block(inputs, skip_features, num_filters):\n",
        "    x = Conv2DTranspose(num_filters, (2, 2), strides=2, padding=\"same\")(inputs)\n",
        "    x = Concatenate()([x, skip_features])\n",
        "    x = conv_block(x, num_filters)\n",
        "    return x\n",
        "\n",
        "def build_unet(input_shape):\n",
        "    \"\"\" Input layer \"\"\"\n",
        "    inputs = Input(input_shape)\n",
        "\n",
        "    \"\"\" Encoder \"\"\"\n",
        "    s1, p1 = encoder_block(inputs, 64)\n",
        "    s2, p2 = encoder_block(p1, 128)\n",
        "    s3, p3 = encoder_block(p2, 256)\n",
        "    s4, p4 = encoder_block(p3, 512)\n",
        "\n",
        "    \"\"\" Bottleneck \"\"\"\n",
        "    b1 = conv_block(p4, 1024)\n",
        "\n",
        "    \"\"\" Decoder \"\"\"\n",
        "    d1 = decoder_block(b1, s4, 512)\n",
        "    d2 = decoder_block(d1, s3, 256)\n",
        "    d3 = decoder_block(d2, s2, 128)\n",
        "    d4 = decoder_block(d3, s1, 64)\n",
        "\n",
        "    \"\"\" Output layer \"\"\"\n",
        "    outputs = Conv2D(1, 1, padding=\"same\", activation=\"sigmoid\")(d4)\n",
        "\n",
        "    model = Model(inputs, outputs, name=\"UNET\")\n",
        "    return model\n",
        "\n",
        "if __name__ == \"__main__\":\n",
        "    model = build_unet((256, 256, 3))\n",
        "    model.summary()"
      ]
    },
    {
      "cell_type": "markdown",
      "metadata": {
        "id": "w2NhuB1qn-KN"
      },
      "source": [
        "# Load the images"
      ]
    },
    {
      "cell_type": "code",
      "execution_count": 83,
      "metadata": {
        "id": "T5LPxTFjmiBg"
      },
      "outputs": [],
      "source": [
        "image_dir = \"/content/drive/MyDrive/H&E dataset/IMAGES\"\n",
        "mask_dir = \"/content/drive/MyDrive/H&E dataset/MASK\"\n",
        "\n",
        "# Load list of image and mask filenames\n",
        "image_filenames = os.listdir(image_dir)\n",
        "mask_filenames = os.listdir(mask_dir)\n",
        "\n",
        "# Sort the filenames to ensure correspondence between images and masks\n",
        "image_filenames.sort()\n",
        "mask_filenames.sort()"
      ]
    },
    {
      "cell_type": "code",
      "execution_count": null,
      "metadata": {
        "id": "tncuMJVc66NG"
      },
      "outputs": [],
      "source": []
    },
    {
      "cell_type": "markdown",
      "metadata": {
        "id": "_QZpFIcTonZF"
      },
      "source": [
        "# Image Preprocessing\n",
        "1. Resize the image and mask to (256,256)\n",
        "2. Convert the colour image to a grayscale image.\n",
        "3. Pixel normalisation by dividing the pixel value with 255.0"
      ]
    },
    {
      "cell_type": "code",
      "execution_count": 84,
      "metadata": {
        "id": "E1C1a1Pln3qb"
      },
      "outputs": [],
      "source": [
        " # Load and preprocess data\n",
        "x_data = []\n",
        "y_data = []\n",
        "for img_filename, mask_filename in zip(image_filenames, mask_filenames):\n",
        "  img = tf.keras.preprocessing.image.load_img(os.path.join(image_dir, img_filename), target_size=(256, 256),color_mode=\"grayscale\")\n",
        "  mask = tf.keras.preprocessing.image.load_img(os.path.join(mask_dir, mask_filename), target_size=(256, 256), color_mode=\"grayscale\")\n",
        "\n",
        "  img = tf.keras.preprocessing.image.img_to_array(img) / 255.0\n",
        "  mask = tf.keras.preprocessing.image.img_to_array(mask) / 255.0\n",
        "\n",
        "  x_data.append(img)\n",
        "  y_data.append(mask)"
      ]
    },
    {
      "cell_type": "code",
      "execution_count": 85,
      "metadata": {
        "id": "It0np7UZsQEH"
      },
      "outputs": [],
      "source": [
        "#convert the image list to array\n",
        "x_data = np.array(x_data)\n",
        "y_data = np.array(y_data)"
      ]
    },
    {
      "cell_type": "markdown",
      "metadata": {
        "id": "mSl2MI4jsey_"
      },
      "source": [
        "# Builing and training the model"
      ]
    },
    {
      "cell_type": "code",
      "execution_count": 86,
      "metadata": {
        "id": "XNW4ZTtSseLq"
      },
      "outputs": [],
      "source": [
        "x_train, x_test, y_train, y_test = train_test_split(x_data, y_data, test_size = 0.2, random_state = 42)"
      ]
    },
    {
      "cell_type": "code",
      "execution_count": 87,
      "metadata": {
        "colab": {
          "base_uri": "https://localhost:8080/"
        },
        "id": "0WTTId7bvJAK",
        "outputId": "3eb9122c-07b4-41b7-f6cf-8ce69dde8481"
      },
      "outputs": [
        {
          "output_type": "stream",
          "name": "stdout",
          "text": [
            "Epoch 1/25\n",
            "5/5 [==============================] - 19s 1s/step - loss: 0.7834 - accuracy: 0.4770 - val_loss: 0.6731 - val_accuracy: 0.8873\n",
            "Epoch 2/25\n",
            "5/5 [==============================] - 3s 565ms/step - loss: 0.5216 - accuracy: 0.8313 - val_loss: 0.8868 - val_accuracy: 0.1511\n",
            "Epoch 3/25\n",
            "5/5 [==============================] - 3s 545ms/step - loss: 0.3995 - accuracy: 0.8856 - val_loss: 1.4693 - val_accuracy: 0.3647\n",
            "Epoch 4/25\n",
            "5/5 [==============================] - 3s 573ms/step - loss: 0.3712 - accuracy: 0.8856 - val_loss: 184.2813 - val_accuracy: 0.1199\n",
            "Epoch 5/25\n",
            "5/5 [==============================] - 3s 576ms/step - loss: 0.3663 - accuracy: 0.8821 - val_loss: 20.1134 - val_accuracy: 0.6787\n",
            "Epoch 6/25\n",
            "5/5 [==============================] - 3s 548ms/step - loss: 0.3661 - accuracy: 0.8863 - val_loss: 264.8031 - val_accuracy: 0.1205\n",
            "Epoch 7/25\n",
            "5/5 [==============================] - 3s 551ms/step - loss: 0.3558 - accuracy: 0.8848 - val_loss: 50.5993 - val_accuracy: 0.1498\n",
            "Epoch 8/25\n",
            "5/5 [==============================] - 3s 577ms/step - loss: 0.3536 - accuracy: 0.8863 - val_loss: 25.8024 - val_accuracy: 0.5118\n",
            "Epoch 9/25\n",
            "5/5 [==============================] - 3s 582ms/step - loss: 0.3500 - accuracy: 0.8863 - val_loss: 42.6715 - val_accuracy: 0.1361\n",
            "Epoch 10/25\n",
            "5/5 [==============================] - 3s 584ms/step - loss: 0.3480 - accuracy: 0.8862 - val_loss: 4.8911 - val_accuracy: 0.1871\n",
            "Epoch 11/25\n",
            "5/5 [==============================] - 3s 582ms/step - loss: 0.3458 - accuracy: 0.8863 - val_loss: 9.8213 - val_accuracy: 0.1680\n",
            "Epoch 12/25\n",
            "5/5 [==============================] - 3s 558ms/step - loss: 0.3457 - accuracy: 0.8863 - val_loss: 10.7051 - val_accuracy: 0.1569\n",
            "Epoch 13/25\n",
            "5/5 [==============================] - 3s 559ms/step - loss: 0.3430 - accuracy: 0.8863 - val_loss: 3.7662 - val_accuracy: 0.1795\n",
            "Epoch 14/25\n",
            "5/5 [==============================] - 3s 565ms/step - loss: 0.3426 - accuracy: 0.8863 - val_loss: 7.4600 - val_accuracy: 0.1546\n",
            "Epoch 15/25\n",
            "5/5 [==============================] - 3s 556ms/step - loss: 0.3404 - accuracy: 0.8863 - val_loss: 2.5648 - val_accuracy: 0.7019\n",
            "Epoch 16/25\n",
            "5/5 [==============================] - 3s 577ms/step - loss: 0.3387 - accuracy: 0.8863 - val_loss: 2.8334 - val_accuracy: 0.1820\n",
            "Epoch 17/25\n",
            "5/5 [==============================] - 3s 550ms/step - loss: 0.3367 - accuracy: 0.8863 - val_loss: 0.5653 - val_accuracy: 0.7603\n",
            "Epoch 18/25\n",
            "5/5 [==============================] - 3s 574ms/step - loss: 0.3370 - accuracy: 0.8863 - val_loss: 1.1459 - val_accuracy: 0.7228\n",
            "Epoch 19/25\n",
            "5/5 [==============================] - 3s 554ms/step - loss: 0.3367 - accuracy: 0.8863 - val_loss: 8.9234 - val_accuracy: 0.1867\n",
            "Epoch 20/25\n",
            "5/5 [==============================] - 3s 547ms/step - loss: 0.3356 - accuracy: 0.8863 - val_loss: 1.7404 - val_accuracy: 0.8873\n",
            "Epoch 21/25\n",
            "5/5 [==============================] - 3s 568ms/step - loss: 0.3344 - accuracy: 0.8863 - val_loss: 1.5786 - val_accuracy: 0.5482\n",
            "Epoch 22/25\n",
            "5/5 [==============================] - 3s 547ms/step - loss: 0.3328 - accuracy: 0.8863 - val_loss: 0.4802 - val_accuracy: 0.8850\n",
            "Epoch 23/25\n",
            "5/5 [==============================] - 3s 568ms/step - loss: 0.3331 - accuracy: 0.8863 - val_loss: 0.4510 - val_accuracy: 0.8802\n",
            "Epoch 24/25\n",
            "5/5 [==============================] - 3s 554ms/step - loss: 0.3327 - accuracy: 0.8863 - val_loss: 0.4425 - val_accuracy: 0.8873\n",
            "Epoch 25/25\n",
            "5/5 [==============================] - 3s 544ms/step - loss: 0.3325 - accuracy: 0.8863 - val_loss: 0.4637 - val_accuracy: 0.8873\n"
          ]
        }
      ],
      "source": [
        "#building the model using build_unet function\n",
        "model = build_unet((256,256,1))\n",
        "model.compile(optimizer = 'adam', loss = BinaryCrossentropy(), metrics = ['accuracy'])\n",
        "\n",
        "#define the early stopping\n",
        "early_stopping = EarlyStopping(monitor = 'val_accuracy', patience = 5, restore_best_weights = True)\n",
        "\n",
        "#training the model\n",
        "r = model.fit(x_train, y_train,\n",
        "              batch_size = 8,\n",
        "              epochs = 25,\n",
        "              validation_data =(x_test,y_test),\n",
        "              )"
      ]
    },
    {
      "cell_type": "code",
      "execution_count": 88,
      "metadata": {
        "colab": {
          "base_uri": "https://localhost:8080/",
          "height": 376
        },
        "id": "d6WrPm_my6AJ",
        "outputId": "bb10b74b-f303-4003-fa2e-ea16ad54b639"
      },
      "outputs": [
        {
          "output_type": "display_data",
          "data": {
            "text/plain": [
              "<Figure size 1200x400 with 2 Axes>"
            ],
            "image/png": "[encoded data removed]"
          },
          "metadata": {}
        }
      ],
      "source": [
        "#Extract training history\n",
        "train_loss = r.history['loss']\n",
        "val_loss = r.history['val_loss']\n",
        "train_accuracy = r.history['accuracy']\n",
        "val_accuracy = r.history['val_accuracy']\n",
        "\n",
        "# Plot the training curve\n",
        "plt.figure(figsize=(12, 4))\n",
        "\n",
        "plt.subplot(1, 2, 1)\n",
        "plt.plot(range(1, len(train_loss) + 1), train_loss, label='Training Loss')\n",
        "plt.plot(range(1, len(val_loss) + 1), val_loss, label='Validation Loss')\n",
        "plt.xlabel('Epoch')\n",
        "plt.ylabel('Loss')\n",
        "plt.title('Training and Validation Loss')\n",
        "plt.legend()\n",
        "\n",
        "plt.subplot(1, 2, 2)\n",
        "plt.plot(range(1, len(train_accuracy) + 1), train_accuracy, label='Training Accuracy')\n",
        "plt.plot(range(1, len(val_accuracy) + 1), val_accuracy, label='Validation Accuracy')\n",
        "plt.xlabel('Epoch')\n",
        "plt.ylabel('Accuracy')\n",
        "plt.title('Training and Validation Accuracy')\n",
        "plt.legend()\n",
        "\n",
        "plt.tight_layout()\n",
        "plt.show()"
      ]
    },
    {
      "cell_type": "markdown",
      "metadata": {
        "id": "qBwTWi-hb1jP"
      },
      "source": [
        "# Model Evaluation"
      ]
    },
    {
      "cell_type": "code",
      "execution_count": 89,
      "metadata": {
        "colab": {
          "base_uri": "https://localhost:8080/"
        },
        "id": "N9vppPR4bjvk",
        "outputId": "f655eac0-d2df-4176-cf1e-42b5fe3ca121"
      },
      "outputs": [
        {
          "output_type": "stream",
          "name": "stdout",
          "text": [
            "1/1 [==============================] - 0s 264ms/step - loss: 0.4637 - accuracy: 0.8873\n",
            "Test Loss: 0.4636996388435364\n",
            "Test Accuracy: 0.887347400188446\n"
          ]
        }
      ],
      "source": [
        "# Evaluate the model on the test dataset\n",
        "evaluation = model.evaluate(x_test, y_test)\n",
        "\n",
        "# Print the evaluation results\n",
        "print(\"Test Loss:\", evaluation[0])\n",
        "print(\"Test Accuracy:\", evaluation[1])"
      ]
    },
    {
      "cell_type": "code",
      "execution_count": 90,
      "metadata": {
        "id": "5HH570SdcYRn",
        "colab": {
          "base_uri": "https://localhost:8080/"
        },
        "outputId": "c401cff3-1fb9-46e8-dc26-3d52c5bda92e"
      },
      "outputs": [
        {
          "output_type": "stream",
          "name": "stderr",
          "text": [
            "/usr/local/lib/python3.10/dist-packages/keras/src/engine/training.py:3000: UserWarning: You are saving your model as an HDF5 file via `model.save()`. This file format is considered legacy. We recommend using instead the native Keras format, e.g. `model.save('my_model.keras')`.\n",
            "  saving_api.save_model(\n"
          ]
        }
      ],
      "source": [
        "model.save('unet_model.h5')"
      ]
    },
    {
      "cell_type": "code",
      "source": [],
      "metadata": {
        "id": "LqMGOkfVr8S6"
      },
      "execution_count": null,
      "outputs": []
    }
  ],
  "metadata": {
    "accelerator": "GPU",
    "colab": {
      "provenance": []
    },
    "kernelspec": {
      "display_name": "Python 3",
      "name": "python3"
    }
  },
  "nbformat": 4,
  "nbformat_minor": 0
}